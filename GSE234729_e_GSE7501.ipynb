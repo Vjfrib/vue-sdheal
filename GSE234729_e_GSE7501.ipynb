{
  "nbformat": 4,
  "nbformat_minor": 0,
  "metadata": {
    "colab": {
      "provenance": [],
      "authorship_tag": "ABX9TyPZChwFo+bBdV/ptezCvZjw",
      "include_colab_link": true
    },
    "kernelspec": {
      "name": "python3",
      "display_name": "Python 3"
    },
    "language_info": {
      "name": "python"
    }
  },
  "cells": [
    {
      "cell_type": "markdown",
      "metadata": {
        "id": "view-in-github",
        "colab_type": "text"
      },
      "source": [
        "<a href=\"https://colab.research.google.com/github/Vjfrib/vue-sdheal/blob/main/GSE234729_e_GSE7501.ipynb\" target=\"_parent\"><img src=\"https://colab.research.google.com/assets/colab-badge.svg\" alt=\"Open In Colab\"/></a>"
      ]
    },
    {
      "cell_type": "markdown",
      "source": [
        "Export"
      ],
      "metadata": {
        "id": "2WahqF5LF5Ou"
      }
    },
    {
      "cell_type": "code",
      "execution_count": 1,
      "metadata": {
        "colab": {
          "base_uri": "https://localhost:8080/"
        },
        "id": "7VWgyPBXCUMr",
        "outputId": "1784bc64-dab8-4232-d815-be0decc7d57b"
      },
      "outputs": [
        {
          "output_type": "stream",
          "name": "stdout",
          "text": [
            "Collecting GEOparse\n",
            "  Downloading GEOparse-2.0.4-py3-none-any.whl.metadata (6.5 kB)\n",
            "Requirement already satisfied: pandas in /usr/local/lib/python3.12/dist-packages (2.2.2)\n",
            "Requirement already satisfied: numpy>=1.7 in /usr/local/lib/python3.12/dist-packages (from GEOparse) (2.0.2)\n",
            "Requirement already satisfied: requests>=2.21.0 in /usr/local/lib/python3.12/dist-packages (from GEOparse) (2.32.4)\n",
            "Requirement already satisfied: tqdm>=4.31.1 in /usr/local/lib/python3.12/dist-packages (from GEOparse) (4.67.1)\n",
            "Requirement already satisfied: python-dateutil>=2.8.2 in /usr/local/lib/python3.12/dist-packages (from pandas) (2.9.0.post0)\n",
            "Requirement already satisfied: pytz>=2020.1 in /usr/local/lib/python3.12/dist-packages (from pandas) (2025.2)\n",
            "Requirement already satisfied: tzdata>=2022.7 in /usr/local/lib/python3.12/dist-packages (from pandas) (2025.2)\n",
            "Requirement already satisfied: six>=1.5 in /usr/local/lib/python3.12/dist-packages (from python-dateutil>=2.8.2->pandas) (1.17.0)\n",
            "Requirement already satisfied: charset_normalizer<4,>=2 in /usr/local/lib/python3.12/dist-packages (from requests>=2.21.0->GEOparse) (3.4.3)\n",
            "Requirement already satisfied: idna<4,>=2.5 in /usr/local/lib/python3.12/dist-packages (from requests>=2.21.0->GEOparse) (3.10)\n",
            "Requirement already satisfied: urllib3<3,>=1.21.1 in /usr/local/lib/python3.12/dist-packages (from requests>=2.21.0->GEOparse) (2.5.0)\n",
            "Requirement already satisfied: certifi>=2017.4.17 in /usr/local/lib/python3.12/dist-packages (from requests>=2.21.0->GEOparse) (2025.8.3)\n",
            "Downloading GEOparse-2.0.4-py3-none-any.whl (29 kB)\n",
            "Installing collected packages: GEOparse\n",
            "Successfully installed GEOparse-2.0.4\n"
          ]
        }
      ],
      "source": [
        "# Instalar dependências\n",
        "!pip install GEOparse pandas"
      ]
    },
    {
      "cell_type": "code",
      "source": [
        "import GEOparse\n",
        "import pandas as pd\n",
        "import matplotlib.pyplot as plt\n"
      ],
      "metadata": {
        "id": "0dYyJN2qF7tv"
      },
      "execution_count": 2,
      "outputs": []
    },
    {
      "cell_type": "code",
      "source": [
        "# cel 1 -\n",
        "def load_gse(gse_id, dest_dir=\".\"):\n",
        "    \"\"\"Baixa e carrega um dataset GEO.\"\"\"\n",
        "    print(f\"🔽 Baixando {gse_id}...\")\n",
        "    gse = GEOparse.get_GEO(geo=gse_id, destdir=dest_dir, silent=True)\n",
        "    print(f\"✅ {gse_id} carregado com sucesso.\")\n",
        "    return gse\n",
        "\n",
        "def extract_clinical_data(gse):\n",
        "    \"\"\"Extrai dados clínicos do GSE para DataFrame.\"\"\"\n",
        "    data = []\n",
        "    for gsm_id, gsm in gse.gsms.items():\n",
        "        row = {\"sample_id\": gsm_id}\n",
        "        for k, v in gsm.metadata.items():\n",
        "            row[k] = \"; \".join(v)\n",
        "        data.append(row)\n",
        "    return pd.DataFrame(data)\n",
        "\n",
        "def extract_expression_data(gse):\n",
        "    \"\"\"Extrai matriz de expressão (genes x amostras) de forma segura.\"\"\"\n",
        "    # Escolhe a primeira plataforma\n",
        "    platform_id = list(gse.gpls.keys())[0]\n",
        "    platform_table = gse.gpls[platform_id].table\n",
        "\n",
        "    # Verifica qual coluna usar como identificador\n",
        "    if 'ID_REF' in platform_table.columns:\n",
        "        id_col = 'ID_REF'\n",
        "    elif 'gene_id' in platform_table.columns:\n",
        "        id_col = 'gene_id'\n",
        "    elif 'Gene Symbol' in platform_table.columns:\n",
        "        id_col = 'Gene Symbol'\n",
        "    else:\n",
        "        id_col = platform_table.columns[0]  # pega a primeira coluna disponível\n",
        "\n",
        "    print(f\"Usando '{id_col}' como identificador de genes para pivotar.\")\n",
        "\n",
        "    expr = gse.pivot_samples('VALUE')  # pivot normal\n",
        "    expr.index = gse.gpls[platform_id].table.set_index(id_col).loc[expr.index][id_col]\n",
        "    return expr"
      ],
      "metadata": {
        "id": "3eopgs1AF_6N"
      },
      "execution_count": 6,
      "outputs": []
    },
    {
      "cell_type": "code",
      "source": [
        "# cel 2 -\n",
        "gse_ids = [\"GSE75010\", \"GSE234729\"]\n",
        "gse_objects = {}\n",
        "for gse_id in gse_ids:\n",
        "    gse_objects[gse_id] = load_gse(gse_id)"
      ],
      "metadata": {
        "colab": {
          "base_uri": "https://localhost:8080/"
        },
        "id": "juS1OS0eGNrC",
        "outputId": "70345da1-03d2-4e86-ef8f-3b4cc54a055b"
      },
      "execution_count": 11,
      "outputs": [
        {
          "output_type": "stream",
          "name": "stdout",
          "text": [
            "🔽 Baixando GSE75010...\n",
            "✅ GSE75010 carregado com sucesso.\n",
            "🔽 Baixando GSE234729...\n",
            "✅ GSE234729 carregado com sucesso.\n"
          ]
        }
      ]
    },
    {
      "cell_type": "code",
      "source": [
        "# cel 3 -\n",
        "clinical_data = {}\n",
        "for gse_id, gse in gse_objects.items():\n",
        "    clinical_data[gse_id] = extract_clinical_data(gse)"
      ],
      "metadata": {
        "id": "dFNnlLXaGVLv"
      },
      "execution_count": 12,
      "outputs": []
    },
    {
      "cell_type": "code",
      "source": [
        "# cel 4 -\n",
        "for gse_id in gse_ids:\n",
        "    print(f\"\\n📋 Dados clínicos ({gse_id}) - primeiras 5 linhas:\")\n",
        "    print(clinical_data[gse_id].head())\n",
        "\n",
        "    print(f\"\\n🧬 Matriz de expressão ({gse_id}) - dimensões:\")\n",
        "    print(expression_data[gse_id].shape)"
      ],
      "metadata": {
        "colab": {
          "base_uri": "https://localhost:8080/",
          "height": 1000
        },
        "id": "6FupMkm6G1Yb",
        "outputId": "9ba49907-1a5a-429a-82ea-5e016ad09a8a"
      },
      "execution_count": 14,
      "outputs": [
        {
          "output_type": "stream",
          "name": "stdout",
          "text": [
            "\n",
            "📋 Dados clínicos (GSE75010) - primeiras 5 linhas:\n",
            "    sample_id               title geo_accession                 status  \\\n",
            "0  GSM1940492   PE-Term-SGA, rep1    GSM1940492  Public on May 10 2016   \n",
            "1  GSM1940493  Cont-Term-CH, rep1    GSM1940493  Public on May 10 2016   \n",
            "2  GSM1940494  Cont-Term-CH, rep2    GSM1940494  Public on May 10 2016   \n",
            "3  GSM1940495   PE-Term-AGA, rep1    GSM1940495  Public on May 10 2016   \n",
            "4  GSM1940496    PE-PreT-CH, rep1    GSM1940496  Public on May 10 2016   \n",
            "\n",
            "  submission_date last_update_date type channel_count  \\\n",
            "0     Nov 13 2015      Oct 02 2018  RNA             1   \n",
            "1     Nov 13 2015      Oct 02 2018  RNA             1   \n",
            "2     Nov 13 2015      May 11 2016  RNA             1   \n",
            "3     Nov 13 2015      Apr 26 2017  RNA             1   \n",
            "4     Nov 13 2015      Oct 02 2018  RNA             1   \n",
            "\n",
            "                              source_name_ch1  organism_ch1  ...  \\\n",
            "0   Human placenta from PE-Term-SGA pregnancy  Homo sapiens  ...   \n",
            "1  Human placenta from Cont-Term-CH pregnancy  Homo sapiens  ...   \n",
            "2  Human placenta from Cont-Term-CH pregnancy  Homo sapiens  ...   \n",
            "3   Human placenta from PE-Term-AGA pregnancy  Homo sapiens  ...   \n",
            "4    Human placenta from PE-PreT-CH pregnancy  Homo sapiens  ...   \n",
            "\n",
            "       contact_institute          contact_address contact_city contact_state  \\\n",
            "0  University of Toronto  1 King's College Circle      Toronto       Ontario   \n",
            "1  University of Toronto  1 King's College Circle      Toronto       Ontario   \n",
            "2  University of Toronto  1 King's College Circle      Toronto       Ontario   \n",
            "3  University of Toronto  1 King's College Circle      Toronto       Ontario   \n",
            "4  University of Toronto  1 King's College Circle      Toronto       Ontario   \n",
            "\n",
            "  contact_zip/postal_code contact_country  \\\n",
            "0                 M5S 1A8          Canada   \n",
            "1                 M5S 1A8          Canada   \n",
            "2                 M5S 1A8          Canada   \n",
            "3                 M5S 1A8          Canada   \n",
            "4                 M5S 1A8          Canada   \n",
            "\n",
            "                                  supplementary_file  \\\n",
            "0  ftp://ftp.ncbi.nlm.nih.gov/geo/samples/GSM1940...   \n",
            "1  ftp://ftp.ncbi.nlm.nih.gov/geo/samples/GSM1940...   \n",
            "2  ftp://ftp.ncbi.nlm.nih.gov/geo/samples/GSM1940...   \n",
            "3  ftp://ftp.ncbi.nlm.nih.gov/geo/samples/GSM1940...   \n",
            "4  ftp://ftp.ncbi.nlm.nih.gov/geo/samples/GSM1940...   \n",
            "\n",
            "                                            relation           series_id  \\\n",
            "0                           Reanalyzed by: GSE100415            GSE75010   \n",
            "1                           Reanalyzed by: GSE100415            GSE75010   \n",
            "2                                                NaN            GSE75010   \n",
            "3                         Alternative to: GSM2589532  GSE75010; GSE98224   \n",
            "4  Alternative to: GSM2589533; Reanalyzed by: GSE...  GSE75010; GSE98224   \n",
            "\n",
            "  data_row_count  \n",
            "0          32321  \n",
            "1          32321  \n",
            "2          32321  \n",
            "3          32321  \n",
            "4          32321  \n",
            "\n",
            "[5 rows x 37 columns]\n",
            "\n",
            "🧬 Matriz de expressão (GSE75010) - dimensões:\n"
          ]
        },
        {
          "output_type": "error",
          "ename": "NameError",
          "evalue": "name 'expression_data' is not defined",
          "traceback": [
            "\u001b[0;31m---------------------------------------------------------------------------\u001b[0m",
            "\u001b[0;31mNameError\u001b[0m                                 Traceback (most recent call last)",
            "\u001b[0;32m/tmp/ipython-input-1427316273.py\u001b[0m in \u001b[0;36m<cell line: 0>\u001b[0;34m()\u001b[0m\n\u001b[1;32m      4\u001b[0m \u001b[0;34m\u001b[0m\u001b[0m\n\u001b[1;32m      5\u001b[0m     \u001b[0mprint\u001b[0m\u001b[0;34m(\u001b[0m\u001b[0;34mf\"\\n🧬 Matriz de expressão ({gse_id}) - dimensões:\"\u001b[0m\u001b[0;34m)\u001b[0m\u001b[0;34m\u001b[0m\u001b[0;34m\u001b[0m\u001b[0m\n\u001b[0;32m----> 6\u001b[0;31m     \u001b[0mprint\u001b[0m\u001b[0;34m(\u001b[0m\u001b[0mexpression_data\u001b[0m\u001b[0;34m[\u001b[0m\u001b[0mgse_id\u001b[0m\u001b[0;34m]\u001b[0m\u001b[0;34m.\u001b[0m\u001b[0mshape\u001b[0m\u001b[0;34m)\u001b[0m\u001b[0;34m\u001b[0m\u001b[0;34m\u001b[0m\u001b[0m\n\u001b[0m",
            "\u001b[0;31mNameError\u001b[0m: name 'expression_data' is not defined"
          ]
        }
      ]
    },
    {
      "cell_type": "code",
      "source": [
        "# cel 5 -\n",
        "expr = expression_data[\"GSE75010\"]\n",
        "expr.iloc[:, 0].head(50).plot(title=\"Expressão de genes - 1ª amostra GSE75010\")\n",
        "plt.xlabel(\"Genes\")\n",
        "plt.ylabel(\"Expressão\")\n",
        "plt.show()"
      ],
      "metadata": {
        "colab": {
          "base_uri": "https://localhost:8080/",
          "height": 219
        },
        "id": "OcWI3153G6yU",
        "outputId": "0798fde4-929c-400b-d87e-b8853631dfed"
      },
      "execution_count": 15,
      "outputs": [
        {
          "output_type": "error",
          "ename": "NameError",
          "evalue": "name 'expression_data' is not defined",
          "traceback": [
            "\u001b[0;31m---------------------------------------------------------------------------\u001b[0m",
            "\u001b[0;31mNameError\u001b[0m                                 Traceback (most recent call last)",
            "\u001b[0;32m/tmp/ipython-input-2981238358.py\u001b[0m in \u001b[0;36m<cell line: 0>\u001b[0;34m()\u001b[0m\n\u001b[0;32m----> 1\u001b[0;31m \u001b[0mexpr\u001b[0m \u001b[0;34m=\u001b[0m \u001b[0mexpression_data\u001b[0m\u001b[0;34m[\u001b[0m\u001b[0;34m\"GSE75010\"\u001b[0m\u001b[0;34m]\u001b[0m\u001b[0;34m\u001b[0m\u001b[0;34m\u001b[0m\u001b[0m\n\u001b[0m\u001b[1;32m      2\u001b[0m \u001b[0mexpr\u001b[0m\u001b[0;34m.\u001b[0m\u001b[0miloc\u001b[0m\u001b[0;34m[\u001b[0m\u001b[0;34m:\u001b[0m\u001b[0;34m,\u001b[0m \u001b[0;36m0\u001b[0m\u001b[0;34m]\u001b[0m\u001b[0;34m.\u001b[0m\u001b[0mhead\u001b[0m\u001b[0;34m(\u001b[0m\u001b[0;36m50\u001b[0m\u001b[0;34m)\u001b[0m\u001b[0;34m.\u001b[0m\u001b[0mplot\u001b[0m\u001b[0;34m(\u001b[0m\u001b[0mtitle\u001b[0m\u001b[0;34m=\u001b[0m\u001b[0;34m\"Expressão de genes - 1ª amostra GSE75010\"\u001b[0m\u001b[0;34m)\u001b[0m\u001b[0;34m\u001b[0m\u001b[0;34m\u001b[0m\u001b[0m\n\u001b[1;32m      3\u001b[0m \u001b[0mplt\u001b[0m\u001b[0;34m.\u001b[0m\u001b[0mxlabel\u001b[0m\u001b[0;34m(\u001b[0m\u001b[0;34m\"Genes\"\u001b[0m\u001b[0;34m)\u001b[0m\u001b[0;34m\u001b[0m\u001b[0;34m\u001b[0m\u001b[0m\n\u001b[1;32m      4\u001b[0m \u001b[0mplt\u001b[0m\u001b[0;34m.\u001b[0m\u001b[0mylabel\u001b[0m\u001b[0;34m(\u001b[0m\u001b[0;34m\"Expressão\"\u001b[0m\u001b[0;34m)\u001b[0m\u001b[0;34m\u001b[0m\u001b[0;34m\u001b[0m\u001b[0m\n\u001b[1;32m      5\u001b[0m \u001b[0mplt\u001b[0m\u001b[0;34m.\u001b[0m\u001b[0mshow\u001b[0m\u001b[0;34m(\u001b[0m\u001b[0;34m)\u001b[0m\u001b[0;34m\u001b[0m\u001b[0;34m\u001b[0m\u001b[0m\n",
            "\u001b[0;31mNameError\u001b[0m: name 'expression_data' is not defined"
          ]
        }
      ]
    },
    {
      "cell_type": "code",
      "source": [
        "# cel 6 -\n",
        "# Exporta dados clínicos e expressão de ambos os datasets para Excel\n",
        "for gse_id in gse_ids:\n",
        "    # Dados clínicos\n",
        "    clinical_file = f\"{gse_id}_clinical.xlsx\"\n",
        "    clinical_data[gse_id].to_excel(clinical_file, index=False)\n",
        "    print(f\"📋 Dados clínicos ({gse_id}) salvos em {clinical_file}\")\n",
        "\n",
        "    # Matriz de expressão\n",
        "    expression_file = f\"{gse_id}_expression.xlsx\"\n",
        "    expression_data[gse_id].to_excel(expression_file)\n",
        "    print(f\"🧬 Matriz de expressão ({gse_id}) salva em {expression_file}\")\n"
      ],
      "metadata": {
        "colab": {
          "base_uri": "https://localhost:8080/",
          "height": 219
        },
        "id": "tNR5T1m1HnCg",
        "outputId": "106d3a2f-b385-49e7-b593-5c79a7e13b16"
      },
      "execution_count": 16,
      "outputs": [
        {
          "output_type": "stream",
          "name": "stdout",
          "text": [
            "📋 Dados clínicos (GSE75010) salvos em GSE75010_clinical.xlsx\n"
          ]
        },
        {
          "output_type": "error",
          "ename": "NameError",
          "evalue": "name 'expression_data' is not defined",
          "traceback": [
            "\u001b[0;31m---------------------------------------------------------------------------\u001b[0m",
            "\u001b[0;31mNameError\u001b[0m                                 Traceback (most recent call last)",
            "\u001b[0;32m/tmp/ipython-input-2356783637.py\u001b[0m in \u001b[0;36m<cell line: 0>\u001b[0;34m()\u001b[0m\n\u001b[1;32m      8\u001b[0m     \u001b[0;31m# Matriz de expressão\u001b[0m\u001b[0;34m\u001b[0m\u001b[0;34m\u001b[0m\u001b[0m\n\u001b[1;32m      9\u001b[0m     \u001b[0mexpression_file\u001b[0m \u001b[0;34m=\u001b[0m \u001b[0;34mf\"{gse_id}_expression.xlsx\"\u001b[0m\u001b[0;34m\u001b[0m\u001b[0;34m\u001b[0m\u001b[0m\n\u001b[0;32m---> 10\u001b[0;31m     \u001b[0mexpression_data\u001b[0m\u001b[0;34m[\u001b[0m\u001b[0mgse_id\u001b[0m\u001b[0;34m]\u001b[0m\u001b[0;34m.\u001b[0m\u001b[0mto_excel\u001b[0m\u001b[0;34m(\u001b[0m\u001b[0mexpression_file\u001b[0m\u001b[0;34m)\u001b[0m\u001b[0;34m\u001b[0m\u001b[0;34m\u001b[0m\u001b[0m\n\u001b[0m\u001b[1;32m     11\u001b[0m     \u001b[0mprint\u001b[0m\u001b[0;34m(\u001b[0m\u001b[0;34mf\"🧬 Matriz de expressão ({gse_id}) salva em {expression_file}\"\u001b[0m\u001b[0;34m)\u001b[0m\u001b[0;34m\u001b[0m\u001b[0;34m\u001b[0m\u001b[0m\n",
            "\u001b[0;31mNameError\u001b[0m: name 'expression_data' is not defined"
          ]
        }
      ]
    }
  ]
}